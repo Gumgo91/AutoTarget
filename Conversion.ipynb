{
 "cells": [
  {
   "cell_type": "code",
   "execution_count": 15,
   "metadata": {},
   "outputs": [
    {
     "name": "stdout",
     "output_type": "stream",
     "text": [
      "'snap'에 복제합니다...\n",
      "remote: Enumerating objects: 13494, done.\u001b[K\n",
      "remote: Counting objects: 100% (97/97), done.\u001b[K\n",
      "remote: Compressing objects: 100% (40/40), done.\u001b[K\n",
      "remote: Total 13494 (delta 56), reused 81 (delta 55), pack-reused 13397\u001b[K\n",
      "오브젝트를 받는 중: 100% (13494/13494), 159.12 MiB | 15.13 MiB/s, 완료.\n",
      "델타를 알아내는 중: 100% (9509/9509), 완료.\n"
     ]
    }
   ],
   "source": [
    "!git clone https://github.com/snap-stanford/snap.git"
   ]
  },
  {
   "cell_type": "markdown",
   "metadata": {},
   "source": [
    "## get UNIPROT ids"
   ]
  },
  {
   "cell_type": "code",
   "execution_count": 1,
   "metadata": {},
   "outputs": [],
   "source": [
    "f = open(\"./P2-02-TTD_uniprot_successful.txt\", 'r')\n",
    "lines = f.readlines()"
   ]
  },
  {
   "cell_type": "code",
   "execution_count": 2,
   "metadata": {},
   "outputs": [],
   "source": [
    "uniprot_items = list()\n",
    "for line in lines[24::5]:\n",
    "    items = line.split('\\t')[1]\n",
    "    items = items.replace('-',';')\n",
    "    for i in items.strip().split(';'):\n",
    "        uniprot_items.append(i.strip())"
   ]
  },
  {
   "cell_type": "code",
   "execution_count": 3,
   "metadata": {},
   "outputs": [],
   "source": [
    "with open('uniprot_ids.txt','w') as f:\n",
    "    for name in uniprot_items:\n",
    "        f.write(name+'\\n')"
   ]
  },
  {
   "cell_type": "code",
   "execution_count": 4,
   "metadata": {},
   "outputs": [
    {
     "data": {
      "text/plain": [
       "876"
      ]
     },
     "execution_count": 4,
     "metadata": {},
     "output_type": "execute_result"
    }
   ],
   "source": [
    "len(uniprot_items)"
   ]
  },
  {
   "cell_type": "markdown",
   "metadata": {},
   "source": [
    "## Ensembl Id conversion\n",
    "- https://biodbnet-abcc.ncifcrf.gov/db/db2db.php\n",
    "\n",
    "The database paths traversed to get these results\n",
    "Path\t\tWeight\n",
    "UniProt Entry Name->UniProt Accession->Ensembl Gene ID\t\t0.0200\n",
    "UniProt Entry Name->Gene ID->Ensembl Gene ID\t\t0.0015\n",
    "UniProt Entry Name->UniProt Accession->Gene ID->Ensembl Gene ID\t\t0.0070\n",
    "UniProt Entry Name->Gene ID->UniProt Accession->Ensembl Gene ID\t\t0.0001\n"
   ]
  },
  {
   "cell_type": "markdown",
   "metadata": {},
   "source": [
    "## Get Edge list"
   ]
  },
  {
   "cell_type": "code",
   "execution_count": 2,
   "metadata": {},
   "outputs": [
    {
     "name": "stdout",
     "output_type": "stream",
     "text": [
      "100\n",
      "200\n",
      "300\n",
      "400\n",
      "500\n"
     ]
    }
   ],
   "source": [
    "f = open(\"./9606.protein.links.v11.5.txt\", 'r')\n",
    "lines = f.readlines()\n",
    "lines = lines[1:]\n",
    "\n",
    "thresholds = [100, 200, 300, 400, 500]\n",
    "\n",
    "for threshold in thresholds:\n",
    "    print(threshold)\n",
    "    f = open(f\"./{threshold}.edgelist\", 'w')\n",
    "    for line in lines:\n",
    "        line = line.strip()\n",
    "        s = line.split()\n",
    "        cs = int(s[2])\n",
    "        if cs > threshold: # confidence score > 0.5\n",
    "            s1 = int(s[0].split('9606.ENSP')[1])\n",
    "            s2 = int(s[1].split('9606.ENSP')[1])\n",
    "            s3 = cs/1000\n",
    "            data = f'{s1}\\t{s2}\\n'\n",
    "            f.write(data)\n",
    "    f.close()"
   ]
  },
  {
   "cell_type": "code",
   "execution_count": 16,
   "metadata": {},
   "outputs": [
    {
     "data": {
      "text/plain": [
       "['protein1 protein2 combined_score\\n',\n",
       " '9606.ENSP00000000233 9606.ENSP00000379496 155\\n',\n",
       " '9606.ENSP00000000233 9606.ENSP00000314067 197\\n',\n",
       " '9606.ENSP00000000233 9606.ENSP00000263116 222\\n',\n",
       " '9606.ENSP00000000233 9606.ENSP00000361263 181\\n',\n",
       " '9606.ENSP00000000233 9606.ENSP00000409666 270\\n',\n",
       " '9606.ENSP00000000233 9606.ENSP00000324287 767\\n',\n",
       " '9606.ENSP00000000233 9606.ENSP00000469689 197\\n',\n",
       " '9606.ENSP00000000233 9606.ENSP00000392206 364\\n',\n",
       " '9606.ENSP00000000233 9606.ENSP00000333657 156\\n']"
      ]
     },
     "execution_count": 16,
     "metadata": {},
     "output_type": "execute_result"
    }
   ],
   "source": [
    "f = open(\"./9606.protein.links.v11.5.txt\", 'r')\n",
    "lines = f.readlines()\n",
    "lines[:10]"
   ]
  }
 ],
 "metadata": {
  "kernelspec": {
   "display_name": "Python 3 (ipykernel)",
   "language": "python",
   "name": "python3"
  },
  "language_info": {
   "codemirror_mode": {
    "name": "ipython",
    "version": 3
   },
   "file_extension": ".py",
   "mimetype": "text/x-python",
   "name": "python",
   "nbconvert_exporter": "python",
   "pygments_lexer": "ipython3",
   "version": "3.11.7"
  }
 },
 "nbformat": 4,
 "nbformat_minor": 4
}
