{
 "cells": [
  {
   "cell_type": "markdown",
   "metadata": {},
   "source": [
    "## get UNIPROT ids"
   ]
  },
  {
   "cell_type": "code",
   "execution_count": 1,
   "metadata": {},
   "outputs": [],
   "source": [
    "f = open(\"./P2-02-TTD_uniprot_successful.txt\", 'r')\n",
    "lines = f.readlines()"
   ]
  },
  {
   "cell_type": "code",
   "execution_count": 2,
   "metadata": {},
   "outputs": [],
   "source": [
    "uniprot_items = list()\n",
    "for line in lines[24::5]:\n",
    "    items = line.split('\\t')[2]\n",
    "    items = items.replace('-',';')\n",
    "    for i in items.strip().split(';'):\n",
    "        uniprot_items.append(i.strip())"
   ]
  },
  {
   "cell_type": "code",
   "execution_count": 3,
   "metadata": {},
   "outputs": [],
   "source": [
    "with open('uniprot_ids.txt','w') as f:\n",
    "    for name in uniprot_items:\n",
    "        f.write(name+'\\n')"
   ]
  },
  {
   "cell_type": "code",
   "execution_count": 4,
   "metadata": {},
   "outputs": [
    {
     "data": {
      "text/plain": [
       "690"
      ]
     },
     "execution_count": 4,
     "metadata": {},
     "output_type": "execute_result"
    }
   ],
   "source": [
    "len(uniprot_items)"
   ]
  },
  {
   "cell_type": "markdown",
   "metadata": {},
   "source": [
    "## Ensembl Id conversion\n",
    "- https://biodbnet-abcc.ncifcrf.gov/db/db2db.php\n",
    "\n",
    "The database paths traversed to get these results\n",
    "Path\t\tWeight\n",
    "UniProt Entry Name->UniProt Accession->Ensembl Gene ID\t\t0.0200\n",
    "UniProt Entry Name->Gene ID->Ensembl Gene ID\t\t0.0015\n",
    "UniProt Entry Name->UniProt Accession->Gene ID->Ensembl Gene ID\t\t0.0070\n",
    "UniProt Entry Name->Gene ID->UniProt Accession->Ensembl Gene ID\t\t0.0001\n"
   ]
  },
  {
   "cell_type": "markdown",
   "metadata": {},
   "source": [
    "## Get Edge list"
   ]
  },
  {
   "cell_type": "code",
   "execution_count": null,
   "metadata": {},
   "outputs": [],
   "source": [
    "f = open(\"./9606.protein.links.v11.5.txt\", 'r')\n",
    "lines = f.readlines()\n",
    "lines = lines[1:]\n",
    "\n",
    "f = open(\"./all.edgelist\", 'w')\n",
    "for line in lines:\n",
    "    line = line.strip()\n",
    "    s = line.split()\n",
    "    s1 = int(s[0].split('9606.ENSP')[1])\n",
    "    s2 = int(s[1].split('9606.ENSP')[1])\n",
    "    data = f'{s1} {s2}\\n'\n",
    "    f.write(data)\n",
    "f.close()"
   ]
  }
 ],
 "metadata": {
  "kernelspec": {
   "display_name": "Python 3",
   "language": "python",
   "name": "python3"
  },
  "language_info": {
   "codemirror_mode": {
    "name": "ipython",
    "version": 3
   },
   "file_extension": ".py",
   "mimetype": "text/x-python",
   "name": "python",
   "nbconvert_exporter": "python",
   "pygments_lexer": "ipython3",
   "version": "3.8.8"
  }
 },
 "nbformat": 4,
 "nbformat_minor": 4
}
